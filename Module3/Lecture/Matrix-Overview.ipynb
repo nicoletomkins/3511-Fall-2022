{
 "cells": [
  {
   "cell_type": "code",
   "execution_count": 2,
   "id": "1046f22f",
   "metadata": {},
   "outputs": [],
   "source": [
    "import numpy as np\n",
    "import matplotlib.pyplot as plt\n",
    "%matplotlib notebook"
   ]
  },
  {
   "cell_type": "markdown",
   "id": "fe064b7d",
   "metadata": {},
   "source": [
    "# Linear Algebra Review"
   ]
  },
  {
   "cell_type": "markdown",
   "id": "32ab1ffd",
   "metadata": {},
   "source": [
    "## Matrices"
   ]
  },
  {
   "cell_type": "markdown",
   "id": "3a4e3454",
   "metadata": {},
   "source": [
    "### Matricies\n",
    "\n",
    "A matrix in general can by any dimension of $m$ rows and $n$ columns ($m \\times n$):\n",
    "\n",
    "$\\bf{A} =\n",
    "\\begin{pmatrix}\n",
    "\\bf{a_{11}} & a_{12} & . & . & . & a_{1n}\\\\\n",
    "a_{21} & \\bf{a_{22}} & . & . & . & a_{2n}\\\\\n",
    " .     & .      & \\bf{.} &   &   & .\\\\\n",
    " .     & .      &   & \\bf{.} &   & .\\\\\n",
    " .     & .      &   &   & \\bf{.} & .\\\\\n",
    "a_{m1} & a_{m2} & . & . & . & \\bf{a_{mn}}\n",
    "\\end{pmatrix}$ \n",
    "\n",
    "\n",
    "\n",
    "A matrix with with rows = columns ($n \\times n$) is called a **square matrix**. \n",
    "\n",
    "A $3 \\times 3$ matrix $\\bf{A}$:\n",
    "\n",
    "$\\bf{A} =\n",
    "\\begin{pmatrix}\n",
    "1 & 2 & 3\\\\\n",
    "4 & 5 & 6\\\\\n",
    "7 & 8 & 9\n",
    "\\end{pmatrix}$ \n",
    "\n",
    "A matrix with one row can be thought of as a **row vector**: \n",
    "\n",
    "$\\vec v_{row} =\n",
    "\\begin{pmatrix}\n",
    "1 & 0 & 0\n",
    "\\end{pmatrix}$ \n",
    "\n",
    "A matrix with one column can be thought of as a **column vector**\n",
    "\n",
    "$\\vec v_{col} = \n",
    "\\begin{pmatrix}\n",
    "1\\\\\n",
    "2\\\\\n",
    "3\n",
    "\\end{pmatrix}$ "
   ]
  },
  {
   "cell_type": "code",
   "execution_count": 23,
   "id": "a3b0a245",
   "metadata": {},
   "outputs": [
    {
     "name": "stdout",
     "output_type": "stream",
     "text": [
      "A:\n",
      " [[1 2 3]\n",
      " [4 5 6]\n",
      " [7 8 9]]\n",
      "\n",
      "\n",
      "v_row:\n",
      " [1 0 0]\n",
      "\n",
      "\n",
      "v_col:\n",
      " [[1]\n",
      " [0]\n",
      " [0]]\n"
     ]
    }
   ],
   "source": [
    "A = np.array([[1,2,3],[4,5,6],[7,8,9]])\n",
    "v_row = np.array([1,0,0])\n",
    "v_col = np.array([[1],[0],[0]])\n",
    "\n",
    "print(\"A:\\n\",A)\n",
    "print(\"\\n\")\n",
    "print(\"v_row:\\n\", v_row)\n",
    "print(\"\\n\")\n",
    "print(\"v_col:\\n\", v_col)"
   ]
  },
  {
   "cell_type": "markdown",
   "id": "5b736641",
   "metadata": {},
   "source": [
    "## Matrix Operations\n"
   ]
  },
  {
   "cell_type": "markdown",
   "id": "ea2b58a6",
   "metadata": {},
   "source": [
    "### Addition\n",
    "\n",
    "Matricies must have the same dimensions to be added (e.g. same number of rows and columns). To add two $m$-by-$n$ matrices $\\bf{A}$ and $\\bf{B}$:\n",
    "- Add entrywise: $(\\bf{A}+\\bf{B})_{ij} = \\bf{A}_{ij} + \\bf{B}_{ij}$. Similar for subtraction.\n",
    "\n",
    "$\\bf{A} + \\bf{B} =\n",
    "\\begin{pmatrix}\n",
    "1 & 2\\\\\n",
    "4 & 5\\\\\n",
    "7 & 8\n",
    "\\end{pmatrix} + \n",
    "\\begin{pmatrix}\n",
    "1 & 0\\\\\n",
    "0 & 1\\\\\n",
    "0 & 0\n",
    "\\end{pmatrix} = \n",
    "\\begin{pmatrix}\n",
    "1+1 & 2+0\\\\\n",
    "4+0 & 5+1\\\\\n",
    "7+0 & 8+0\n",
    "\\end{pmatrix} = \n",
    "\\begin{pmatrix}\n",
    "2 & 2\\\\\n",
    "4 & 6\\\\\n",
    "7 & 8\n",
    "\\end{pmatrix}$\n",
    "\n",
    "$\\bf{A} - \\bf{B} =\n",
    "\\begin{pmatrix}\n",
    "0 & 2\\\\\n",
    "4 & 4\\\\\n",
    "7 & 8\n",
    "\\end{pmatrix}$"
   ]
  },
  {
   "cell_type": "code",
   "execution_count": 31,
   "id": "c2b27cf3",
   "metadata": {},
   "outputs": [
    {
     "name": "stdout",
     "output_type": "stream",
     "text": [
      "A:\n",
      " [[1 2]\n",
      " [4 5]\n",
      " [7 8]]\n",
      "\n",
      "B:\n",
      " [[1 0]\n",
      " [0 1]\n",
      " [0 0]]\n",
      "\n",
      "A+B:\n",
      " [[2 2]\n",
      " [4 6]\n",
      " [7 8]]\n",
      "\n",
      "A+B:\n",
      " [[0 2]\n",
      " [4 4]\n",
      " [7 8]]\n"
     ]
    }
   ],
   "source": [
    "A = np.array([[1,2],[4,5],[7,8]])\n",
    "B = np.array([[1,0],[0,1],[0,0]])\n",
    "\n",
    "print(\"A:\\n\", A)\n",
    "print(\"\\nB:\\n\", B)\n",
    "\n",
    "AB_add = A + B\n",
    "print(\"\\nA+B:\\n\",AB_add)\n",
    "\n",
    "AB_sub = A - B\n",
    "print(\"\\nA+B:\\n\",AB_sub)"
   ]
  },
  {
   "cell_type": "markdown",
   "id": "675d1c01",
   "metadata": {},
   "source": [
    "### Scalar Multiplication\n",
    "\n",
    "Multiplying a matrix $\\bf{A}$ by a scalar $c$ is computed by mulitplying every element in $\\bf{A}$ by the scalar $c$:\n",
    "- $(c\\bf{A})_{ij} = c\\cdot \\bf{A}_{ij}$\n",
    "\n",
    "$2 \\cdot\\bf{A} =\n",
    "2\\cdot\\begin{pmatrix}\n",
    "1 & 2\\\\\n",
    "4 & 5\\\\\n",
    "7 & 8\n",
    "\\end{pmatrix} =\n",
    "\\begin{pmatrix}\n",
    "2\\cdot 1 & 2\\cdot 2\\\\\n",
    "2\\cdot 4 & 2\\cdot 5\\\\\n",
    "2\\cdot 7 & 2\\cdot 8\n",
    "\\end{pmatrix} = \n",
    "\\begin{pmatrix}\n",
    "2 & 4\\\\\n",
    "8 & 10\\\\\n",
    "14 & 16\n",
    "\\end{pmatrix}$"
   ]
  },
  {
   "cell_type": "code",
   "execution_count": 32,
   "id": "e1af11da",
   "metadata": {},
   "outputs": [
    {
     "name": "stdout",
     "output_type": "stream",
     "text": [
      "cA:\n",
      " [[ 2.  4.]\n",
      " [ 8. 10.]\n",
      " [14. 16.]]\n"
     ]
    }
   ],
   "source": [
    "A = np.array([[1,2],[4,5],[7,8]])\n",
    "c = 2.0\n",
    "\n",
    "cA = c*A\n",
    "print(\"cA:\\n\",cA)"
   ]
  },
  {
   "cell_type": "markdown",
   "id": "11033b07",
   "metadata": {},
   "source": [
    "### Transpose\n",
    "\n",
    "The transpose of an $m$-by-$n$ $\\bf{A}$ is the $n$-by-$m$ matrix $\\bf{A^T}$ formed by turning rows into columns and vice-versa.\n",
    "\n",
    "$(\\bf{A^T})_{ij} = \\bf{A}_{ji}$\n",
    "\n",
    "$\\begin{pmatrix}\n",
    "1 & 2\\\\\n",
    "3 & 4\\\\\n",
    "5 & 6\n",
    "\\end{pmatrix}^T =\n",
    "\\begin{pmatrix}\n",
    "1 & 3 & 5\\\\\n",
    "2 & 4 & 6\n",
    "\\end{pmatrix}$\n"
   ]
  },
  {
   "cell_type": "code",
   "execution_count": 39,
   "id": "51b31496",
   "metadata": {},
   "outputs": [
    {
     "name": "stdout",
     "output_type": "stream",
     "text": [
      "A_T:\n",
      " [[1 3 5]\n",
      " [2 4 6]]\n"
     ]
    }
   ],
   "source": [
    "A = np.array([[1,2],[3,4],[5,6]])\n",
    "A_T = A.T\n",
    "#A.T is short hand for A.transpose()\n",
    "print(\"A_T:\\n\",A_T)"
   ]
  },
  {
   "cell_type": "markdown",
   "id": "9500d29d",
   "metadata": {},
   "source": [
    "###  Matrix Multiplication\n",
    "\n",
    "The multiplication of two matrices $\\bf{A}$ which has dimensions $m$-by-$n$ and $\\bf{B}$ which is a $n$-by-$p$ matrix leads to a product matrix $\\bf{C}$ which has dimentsions of $m$-by-$p$.\n",
    "\n",
    "Consider a 3-by-2 matrix $\\bf{A}$ and 2-by-4 matrix $\\bf{B}$:\n",
    "\n",
    "$\\bf{A} = \\begin{pmatrix}\n",
    "a_{11} & a_{12}\\\\\n",
    "a_{21} & a_{22}\\\\\n",
    "a_{31} & a_{32}\n",
    "\\end{pmatrix},\\;\\;\n",
    "\\bf{B} = \\begin{pmatrix}\n",
    "b_{11} & b_{12} & b_{13} & b_{14}\\\\\n",
    "b_{21} & b_{22} & b_{23} & b_{24}\\\\\n",
    "\\end{pmatrix}$\n",
    "\n",
    "Then the matrix product $AB$ is defined as:\n",
    "\n",
    "$\\bf{AB} =\\begin{pmatrix}\n",
    "(a_{11}\\cdot b_{11} + a_{12}\\cdot b_{21}) & (a_{11}\\cdot b_{12} + a_{12}\\cdot b_{22}) & (a_{11}\\cdot b_{13} + a_{12}\\cdot b_{23}) & (a_{11}\\cdot b_{14} + a_{12}\\cdot b_{24})\\\\\n",
    "(a_{21}\\cdot b_{11} + a_{22}\\cdot b_{21}) & (a_{21}\\cdot b_{12} + a_{22}\\cdot b_{22}) & (a_{21}\\cdot b_{13} + a_{22}\\cdot b_{23}) & (a_{21}\\cdot b_{14} + a_{22}\\cdot b_{24})\\\\\n",
    "(a_{31}\\cdot b_{11} + a_{32}\\cdot b_{21}) & (a_{31}\\cdot b_{12} + a_{32}\\cdot b_{22}) & (a_{31}\\cdot b_{13} + a_{32}\\cdot b_{23}) & (a_{31}\\cdot b_{14} + a_{32}\\cdot b_{24})\n",
    "\\end{pmatrix}$\n",
    "\n",
    "\n",
    "$\\bf{A} = \\begin{pmatrix}\n",
    "1 & 2\\\\\n",
    "2 & 1\\\\\n",
    "0 & 3\n",
    "\\end{pmatrix},\\;\\;\n",
    "\\bf{B} = \\begin{pmatrix}\n",
    "1 & 2 & 0 & 4\\\\\n",
    "0 & 2 & 3 & 1\\\\\n",
    "\\end{pmatrix}$\n",
    "\n",
    "Then the matrix product $AB$ is \n",
    "\n",
    "$\\bf{AB} =\\begin{pmatrix}\n",
    "1 & 6 & 6 & 6\\\\\n",
    "2 & 6 & 3 & 9\\\\\n",
    "0 & 6 & 9 & 3\n",
    "\\end{pmatrix}$\n",
    "\n",
    "Note that $\\bf{A \\cdot B}$ is **not** the same as $\\bf{B \\cdot A}$. In the case above $\\bf{A\\cdot B}$ results in a 3-by-4 matrix. \n",
    "\n",
    "Can we do $\\bf{B\\cdot A}$ using the example matrices above? "
   ]
  },
  {
   "cell_type": "code",
   "execution_count": 48,
   "id": "e2665b5d",
   "metadata": {},
   "outputs": [
    {
     "name": "stdout",
     "output_type": "stream",
     "text": [
      "AB = \n",
      " [[1 6 6 6]\n",
      " [2 6 3 9]\n",
      " [0 6 9 3]]\n"
     ]
    },
    {
     "ename": "ValueError",
     "evalue": "matmul: Input operand 1 has a mismatch in its core dimension 0, with gufunc signature (n?,k),(k,m?)->(n?,m?) (size 3 is different from 4)",
     "output_type": "error",
     "traceback": [
      "\u001b[0;31m---------------------------------------------------------------------------\u001b[0m",
      "\u001b[0;31mValueError\u001b[0m                                Traceback (most recent call last)",
      "Input \u001b[0;32mIn [48]\u001b[0m, in \u001b[0;36m<cell line: 7>\u001b[0;34m()\u001b[0m\n\u001b[1;32m      4\u001b[0m AB \u001b[38;5;241m=\u001b[39m np\u001b[38;5;241m.\u001b[39mmatmul(A,B)\n\u001b[1;32m      5\u001b[0m \u001b[38;5;28mprint\u001b[39m(\u001b[38;5;124m\"\u001b[39m\u001b[38;5;124mAB = \u001b[39m\u001b[38;5;130;01m\\n\u001b[39;00m\u001b[38;5;124m\"\u001b[39m,AB)\n\u001b[0;32m----> 7\u001b[0m BA \u001b[38;5;241m=\u001b[39m \u001b[43mnp\u001b[49m\u001b[38;5;241;43m.\u001b[39;49m\u001b[43mmatmul\u001b[49m\u001b[43m(\u001b[49m\u001b[43mB\u001b[49m\u001b[43m,\u001b[49m\u001b[43mA\u001b[49m\u001b[43m)\u001b[49m\n\u001b[1;32m      8\u001b[0m \u001b[38;5;28mprint\u001b[39m(\u001b[38;5;124m\"\u001b[39m\u001b[38;5;124mBA = \u001b[39m\u001b[38;5;130;01m\\n\u001b[39;00m\u001b[38;5;124m\"\u001b[39m,BA)\n",
      "\u001b[0;31mValueError\u001b[0m: matmul: Input operand 1 has a mismatch in its core dimension 0, with gufunc signature (n?,k),(k,m?)->(n?,m?) (size 3 is different from 4)"
     ]
    }
   ],
   "source": [
    "A = np.array([[1,2],[2,1],[0,3]])\n",
    "B = np.array([[1,2,0,4],[0,2,3,1]])\n",
    "\n",
    "AB = np.matmul(A,B)\n",
    "print(\"AB = \\n\",AB)\n",
    "\n",
    "BA = np.matmul(B,A)\n",
    "print(\"BA = \\n\",BA)\n",
    "\n"
   ]
  },
  {
   "cell_type": "markdown",
   "id": "73e083e8",
   "metadata": {},
   "source": [
    "### Identity Matrix\n",
    "\n",
    "The identity matrix is a $n \\times n$ matrix whose diagonal terms are $1$'s and off diagonal terms are $0$'s. An $n \\times n$ identity matrix is represented as $I_n$. A $\\;3 \\times 3$ identity matrix, $I_3 = \n",
    "\\begin{pmatrix}\n",
    "1 & 0 & 0\\\\\n",
    "0 & 1 & 0\\\\\n",
    "0 & 0 & 1\n",
    "\\end{pmatrix}$ "
   ]
  },
  {
   "cell_type": "code",
   "execution_count": 40,
   "id": "f313c354",
   "metadata": {},
   "outputs": [
    {
     "name": "stdout",
     "output_type": "stream",
     "text": [
      "I_3 = \n",
      " [[1. 0. 0.]\n",
      " [0. 1. 0.]\n",
      " [0. 0. 1.]]\n",
      "diagonal elements of I_3:  [1. 1. 1.]\n"
     ]
    }
   ],
   "source": [
    "I_3 = np.eye(3)\n",
    "print(\"I_3 = \\n\", I_3)\n",
    "print(\"diagonal elements of I_3: \", np.diag(I_3))"
   ]
  },
  {
   "cell_type": "markdown",
   "id": "373a26a0",
   "metadata": {},
   "source": [
    "Multiplication with the identity matrix leaves the original matrix unchanged:\n",
    "\n",
    "$\\bf{A\\cdot I_n} = \\bf{I_m\\cdot A}$, for any m-by-n matrix $\\bf{A}$ "
   ]
  },
  {
   "cell_type": "code",
   "execution_count": 57,
   "id": "7364b959",
   "metadata": {},
   "outputs": [
    {
     "name": "stdout",
     "output_type": "stream",
     "text": [
      "AI2:\n",
      " [[1. 2.]\n",
      " [3. 4.]\n",
      " [5. 6.]]\n",
      "\n",
      "IA:\n",
      " [[1. 2.]\n",
      " [3. 4.]\n",
      " [5. 6.]]\n"
     ]
    }
   ],
   "source": [
    "A = np.array([[1,2],[3,4],[5,6]])\n",
    "I_2 = np.eye(2)\n",
    "I_3 = np.eye(3)\n",
    "\n",
    "AI2 = np.matmul(A,I_2)\n",
    "print(\"AI2:\\n\",AI2)\n",
    "\n",
    "I3A = np.matmul(I_3,A)\n",
    "print(\"\\nIA:\\n\",I3A)"
   ]
  },
  {
   "cell_type": "markdown",
   "id": "66da7c74",
   "metadata": {},
   "source": [
    "## Determinate\n",
    "\n",
    "The determinate of a square matrix $\\bf{A}$ can be represented $det(\\bf{A})$ or $|\\bf{A}|$, and contains specfic properties about the matrix.\n",
    "\n",
    "- Determins if the matrix is invertable \n",
    "- Geometricaly relats to areas/volumes\n",
    "- Transformations\n",
    "\n",
    "A 2-by-2 matrix $\\bf{A}$ has a determinate:\n",
    "$\\begin{vmatrix}\n",
    "a_{11} & a_{12}\\\\\n",
    "a_{21} & a_{22}\n",
    "\\end{vmatrix} = a_{11}a_{22} - a_{12}a_{21}$\n",
    "\n",
    "Example:\n",
    "$\\begin{vmatrix}\n",
    "2 & 1\\\\\n",
    "1 & 3\n",
    "\\end{vmatrix} = 2\\cdot 3 - 1\\cdot 1 = 6 - 1 = 5$\n"
   ]
  },
  {
   "cell_type": "code",
   "execution_count": 61,
   "id": "32c185f8",
   "metadata": {},
   "outputs": [
    {
     "name": "stdout",
     "output_type": "stream",
     "text": [
      "5.000000000000001\n"
     ]
    }
   ],
   "source": [
    "A = np.array([[2,1],[1,3]])\n",
    "detA = np.linalg.det(A)\n",
    "print(detA)"
   ]
  },
  {
   "cell_type": "markdown",
   "id": "c3ae5ab9",
   "metadata": {},
   "source": [
    "To compute the determinate of larger matrices you can break it into a series of 2-by-2 determinates. \n",
    "\n",
    "Example:\n",
    "\n",
    "$\\begin{vmatrix}\n",
    "1 & 2 & 1\\\\\n",
    "2 & 1 & 3\\\\\n",
    "3 & 0 & 1\n",
    "\\end{vmatrix} = \n",
    "1\\cdot \\begin{vmatrix}\n",
    "1 & 3\\\\\n",
    "0 & 1\\\\\n",
    "\\end{vmatrix} -\n",
    "2\\cdot \\begin{vmatrix}\n",
    "2 & 3\\\\\n",
    "3 & 1\\\\\n",
    "\\end{vmatrix} +\n",
    "1\\cdot \\begin{vmatrix}\n",
    "2 & 1\\\\\n",
    "3 & 0\\\\\n",
    "\\end{vmatrix}\n",
    "= \n",
    "1\\cdot (1\\cdot 1 - 3\\cdot 0) - 2\\cdot (2\\cdot 1 - 3\\cdot 3) + 1\\cdot (2\\cdot 0 - 1\\cdot 3)\n",
    "= 1 - (-14) + (-3)\n",
    "= 12\n",
    "$"
   ]
  },
  {
   "cell_type": "code",
   "execution_count": 65,
   "id": "c3b0599f",
   "metadata": {},
   "outputs": [
    {
     "name": "stdout",
     "output_type": "stream",
     "text": [
      "A:\n",
      " [[1 2 1]\n",
      " [2 1 3]\n",
      " [3 0 1]]\n",
      "\n",
      "detA:\n",
      " 12.0\n"
     ]
    }
   ],
   "source": [
    "A = np.array([[1,2,1],[2,1,3],[3,0,1]])\n",
    "detA = np.linalg.det(A)\n",
    "print(\"A:\\n\",A)\n",
    "print(\"\\ndetA:\\n\",detA)"
   ]
  },
  {
   "cell_type": "markdown",
   "id": "b5fd6e1c",
   "metadata": {},
   "source": [
    "### The Cross Product\n",
    "\n",
    "The formula for the cross product of two vectors, $\\vec{A} = a_x \\hat{i} + a_y \\hat{j} + a_z \\hat{k}$ and $\\vec{B} = b_x \\hat{i} + b_y \\hat{j} + b_z \\hat{k}$ is:\n",
    "\n",
    "$\\vec{A} \\times \\vec{B} = (a_y b_z - a_z b_y)\\hat{i} - (a_x b_z - a_z b_x)\\hat{j} + (a_x b_y - a_y b_x)\\hat{k}$\n",
    "\n",
    "The determinate can be used to reproduce this formula:\n",
    "\n",
    "$\\begin{vmatrix}\n",
    "\\hat{i} & \\hat{j} & \\hat{k}\\\\\n",
    "a_x     &  a_y    & a_z\\\\ \n",
    "b_x     &  b_y    & b_z\n",
    "\\end{vmatrix} = \n",
    "\\hat{i}(a_y b_z - a_z b_y) - \\hat{j}(a_x b_z - a_z b_x) + \\hat{k}(a_x b_y - a_y b_x)\n",
    "$"
   ]
  },
  {
   "cell_type": "code",
   "execution_count": null,
   "id": "eb166ab8",
   "metadata": {},
   "outputs": [],
   "source": []
  }
 ],
 "metadata": {
  "kernelspec": {
   "display_name": "Python 3 (ipykernel)",
   "language": "python",
   "name": "python3"
  },
  "language_info": {
   "codemirror_mode": {
    "name": "ipython",
    "version": 3
   },
   "file_extension": ".py",
   "mimetype": "text/x-python",
   "name": "python",
   "nbconvert_exporter": "python",
   "pygments_lexer": "ipython3",
   "version": "3.9.12"
  }
 },
 "nbformat": 4,
 "nbformat_minor": 5
}
